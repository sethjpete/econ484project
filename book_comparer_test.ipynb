{
 "cells": [
  {
   "cell_type": "code",
   "execution_count": 1,
   "metadata": {},
   "outputs": [
    {
     "name": "stdout",
     "output_type": "stream",
     "text": [
      "/Users/sethjpete/Documents/Econ 484/Project/Training\n"
     ]
    }
   ],
   "source": [
    "%cd Training\n",
    "from Training.Book_Comparer import Book, BookComparer"
   ]
  },
  {
   "cell_type": "code",
   "execution_count": 3,
   "metadata": {},
   "outputs": [],
   "source": [
    "comparer = BookComparer('exported_models/Large_SPL.csv', 'exported_models/', verbose=False, count = 6)"
   ]
  },
  {
   "cell_type": "code",
   "execution_count": 4,
   "metadata": {},
   "outputs": [
    {
     "name": "stdout",
     "output_type": "stream",
     "text": [
      "Done.                                             \r"
     ]
    },
    {
     "data": {
      "text/html": [
       "<div>\n",
       "<style scoped>\n",
       "    .dataframe tbody tr th:only-of-type {\n",
       "        vertical-align: middle;\n",
       "    }\n",
       "\n",
       "    .dataframe tbody tr th {\n",
       "        vertical-align: top;\n",
       "    }\n",
       "\n",
       "    .dataframe thead th {\n",
       "        text-align: right;\n",
       "    }\n",
       "</style>\n",
       "<table border=\"1\" class=\"dataframe\">\n",
       "  <thead>\n",
       "    <tr style=\"text-align: right;\">\n",
       "      <th></th>\n",
       "      <th>title_b</th>\n",
       "      <th>author_b</th>\n",
       "      <th>publisher_b</th>\n",
       "      <th>publish_year_b</th>\n",
       "      <th>title_a</th>\n",
       "    </tr>\n",
       "  </thead>\n",
       "  <tbody>\n",
       "    <tr>\n",
       "      <th>393</th>\n",
       "      <td>A trick of the light</td>\n",
       "      <td>Penny, Louise</td>\n",
       "      <td>Minotaur Books,</td>\n",
       "      <td>2011</td>\n",
       "      <td>Twilight</td>\n",
       "    </tr>\n",
       "    <tr>\n",
       "      <th>26808</th>\n",
       "      <td>Out of the dawn light</td>\n",
       "      <td>Clare, Alys</td>\n",
       "      <td>Severn House,</td>\n",
       "      <td>2009</td>\n",
       "      <td>Twilight</td>\n",
       "    </tr>\n",
       "    <tr>\n",
       "      <th>1406</th>\n",
       "      <td>Twilight</td>\n",
       "      <td>Hunter, Erin</td>\n",
       "      <td>HarperCollins,</td>\n",
       "      <td>2006</td>\n",
       "      <td>Twilight</td>\n",
       "    </tr>\n",
       "    <tr>\n",
       "      <th>165</th>\n",
       "      <td>Twilight</td>\n",
       "      <td>Meyer, Stephenie, 1973-</td>\n",
       "      <td>Little, Brown and Co.,</td>\n",
       "      <td>2005</td>\n",
       "      <td>Twilight</td>\n",
       "    </tr>\n",
       "    <tr>\n",
       "      <th>25726</th>\n",
       "      <td>Vienna twilight</td>\n",
       "      <td>Tallis, Frank</td>\n",
       "      <td>Random House Trade Paperbacks,</td>\n",
       "      <td>2010</td>\n",
       "      <td>Twilight</td>\n",
       "    </tr>\n",
       "    <tr>\n",
       "      <th>15490</th>\n",
       "      <td>Twilight : the complete illustrated movie comp...</td>\n",
       "      <td>Vaz, Mark Cotta</td>\n",
       "      <td>Little, Brown and Company,</td>\n",
       "      <td>2008</td>\n",
       "      <td>Twilight</td>\n",
       "    </tr>\n",
       "  </tbody>\n",
       "</table>\n",
       "</div>"
      ],
      "text/plain": [
       "                                                 title_b  \\\n",
       "393                                 A trick of the light   \n",
       "26808                              Out of the dawn light   \n",
       "1406                                            Twilight   \n",
       "165                                             Twilight   \n",
       "25726                                    Vienna twilight   \n",
       "15490  Twilight : the complete illustrated movie comp...   \n",
       "\n",
       "                      author_b                     publisher_b  \\\n",
       "393              Penny, Louise                 Minotaur Books,   \n",
       "26808              Clare, Alys                   Severn House,   \n",
       "1406              Hunter, Erin                  HarperCollins,   \n",
       "165    Meyer, Stephenie, 1973-          Little, Brown and Co.,   \n",
       "25726            Tallis, Frank  Random House Trade Paperbacks,   \n",
       "15490          Vaz, Mark Cotta      Little, Brown and Company,   \n",
       "\n",
       "       publish_year_b   title_a  \n",
       "393              2011  Twilight  \n",
       "26808            2009  Twilight  \n",
       "1406             2006  Twilight  \n",
       "165              2005  Twilight  \n",
       "25726            2010  Twilight  \n",
       "15490            2008  Twilight  "
      ]
     },
     "execution_count": 4,
     "metadata": {},
     "output_type": "execute_result"
    }
   ],
   "source": [
    "comparer.compare_book(Book('Twilight'))"
   ]
  }
 ],
 "metadata": {
  "kernelspec": {
   "display_name": "base",
   "language": "python",
   "name": "python3"
  },
  "language_info": {
   "codemirror_mode": {
    "name": "ipython",
    "version": 3
   },
   "file_extension": ".py",
   "mimetype": "text/x-python",
   "name": "python",
   "nbconvert_exporter": "python",
   "pygments_lexer": "ipython3",
   "version": "3.9.16"
  },
  "orig_nbformat": 4
 },
 "nbformat": 4,
 "nbformat_minor": 2
}
