{
 "cells": [
  {
   "cell_type": "code",
   "execution_count": 22,
   "metadata": {},
   "outputs": [],
   "source": [
    "import pandas as pd\n",
    "import math"
   ]
  },
  {
   "cell_type": "code",
   "execution_count": 23,
   "metadata": {},
   "outputs": [],
   "source": [
    "nyt = pd.read_csv('Exported/cleaned_NYT_Sel.csv', index_col=0)\n",
    "grd = pd.read_csv('Exported/GRD_Sel.csv')\n",
    "spl = pd.read_csv('Exported/SPL_Sel.csv')"
   ]
  },
  {
   "cell_type": "code",
   "execution_count": 24,
   "metadata": {},
   "outputs": [],
   "source": [
    "nyt = nyt.sample(frac=1, random_state=10101).reset_index(drop=True)\n",
    "size = math.floor(len(nyt) / 3)\n",
    "size\n",
    "nyt1 = nyt[:size]\n",
    "nyt2 = nyt[size:2*size]\n",
    "nyt3 = nyt[2*size:]\n",
    "nyt1.to_csv('Exported/HW/nyt1.csv')\n",
    "nyt2.to_csv('Exported/HW/nyt2.csv')\n",
    "nyt3.to_csv('Exported/HW/nyt3.csv')"
   ]
  },
  {
   "cell_type": "code",
   "execution_count": 26,
   "metadata": {},
   "outputs": [],
   "source": [
    "df = pd.concat([grd, spl], ignore_index=True)\n",
    "df = df.sample(frac=1, random_state=10101).reset_index(drop=True)\n",
    "df = df[:10000]"
   ]
  },
  {
   "cell_type": "code",
   "execution_count": 28,
   "metadata": {},
   "outputs": [],
   "source": [
    "df.to_csv('Exported/HW/Master.csv')"
   ]
  },
  {
   "cell_type": "code",
   "execution_count": null,
   "metadata": {},
   "outputs": [],
   "source": []
  }
 ],
 "metadata": {
  "kernelspec": {
   "display_name": "base",
   "language": "python",
   "name": "python3"
  },
  "language_info": {
   "codemirror_mode": {
    "name": "ipython",
    "version": 3
   },
   "file_extension": ".py",
   "mimetype": "text/x-python",
   "name": "python",
   "nbconvert_exporter": "python",
   "pygments_lexer": "ipython3",
   "version": "3.9.13"
  },
  "orig_nbformat": 4
 },
 "nbformat": 4,
 "nbformat_minor": 2
}
